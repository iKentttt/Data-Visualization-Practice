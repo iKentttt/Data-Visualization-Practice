{
 "cells": [
  {
   "cell_type": "code",
   "execution_count": 1,
   "id": "7b56094d-cf41-43c4-8b72-b93ec8579662",
   "metadata": {},
   "outputs": [],
   "source": [
    "import pandas as pd"
   ]
  },
  {
   "cell_type": "code",
   "execution_count": 2,
   "id": "c1849955-9fd9-4d5d-ba6f-4b4ca0ac5268",
   "metadata": {},
   "outputs": [],
   "source": [
    "from matplotlib import pyplot as plt"
   ]
  },
  {
   "cell_type": "code",
   "execution_count": 3,
   "id": "35d193bb-8042-45d3-ba82-f932c4cc3267",
   "metadata": {},
   "outputs": [],
   "source": [
    "data = pd.read_csv(\"countries.csv\")"
   ]
  },
  {
   "cell_type": "code",
   "execution_count": 4,
   "id": "0780830e-c05c-4958-a859-e7d1825e4644",
   "metadata": {},
   "outputs": [
    {
     "data": {
      "text/html": [
       "<div>\n",
       "<style scoped>\n",
       "    .dataframe tbody tr th:only-of-type {\n",
       "        vertical-align: middle;\n",
       "    }\n",
       "\n",
       "    .dataframe tbody tr th {\n",
       "        vertical-align: top;\n",
       "    }\n",
       "\n",
       "    .dataframe thead th {\n",
       "        text-align: right;\n",
       "    }\n",
       "</style>\n",
       "<table border=\"1\" class=\"dataframe\">\n",
       "  <thead>\n",
       "    <tr style=\"text-align: right;\">\n",
       "      <th></th>\n",
       "      <th>country</th>\n",
       "      <th>year</th>\n",
       "      <th>population</th>\n",
       "    </tr>\n",
       "  </thead>\n",
       "  <tbody>\n",
       "    <tr>\n",
       "      <th>0</th>\n",
       "      <td>Afghanistan</td>\n",
       "      <td>1952</td>\n",
       "      <td>8425333</td>\n",
       "    </tr>\n",
       "    <tr>\n",
       "      <th>1</th>\n",
       "      <td>Afghanistan</td>\n",
       "      <td>1957</td>\n",
       "      <td>9240934</td>\n",
       "    </tr>\n",
       "    <tr>\n",
       "      <th>2</th>\n",
       "      <td>Afghanistan</td>\n",
       "      <td>1962</td>\n",
       "      <td>10267083</td>\n",
       "    </tr>\n",
       "    <tr>\n",
       "      <th>3</th>\n",
       "      <td>Afghanistan</td>\n",
       "      <td>1967</td>\n",
       "      <td>11537966</td>\n",
       "    </tr>\n",
       "    <tr>\n",
       "      <th>4</th>\n",
       "      <td>Afghanistan</td>\n",
       "      <td>1972</td>\n",
       "      <td>13079460</td>\n",
       "    </tr>\n",
       "    <tr>\n",
       "      <th>...</th>\n",
       "      <td>...</td>\n",
       "      <td>...</td>\n",
       "      <td>...</td>\n",
       "    </tr>\n",
       "    <tr>\n",
       "      <th>1699</th>\n",
       "      <td>Zimbabwe</td>\n",
       "      <td>1987</td>\n",
       "      <td>9216418</td>\n",
       "    </tr>\n",
       "    <tr>\n",
       "      <th>1700</th>\n",
       "      <td>Zimbabwe</td>\n",
       "      <td>1992</td>\n",
       "      <td>10704340</td>\n",
       "    </tr>\n",
       "    <tr>\n",
       "      <th>1701</th>\n",
       "      <td>Zimbabwe</td>\n",
       "      <td>1997</td>\n",
       "      <td>11404948</td>\n",
       "    </tr>\n",
       "    <tr>\n",
       "      <th>1702</th>\n",
       "      <td>Zimbabwe</td>\n",
       "      <td>2002</td>\n",
       "      <td>11926563</td>\n",
       "    </tr>\n",
       "    <tr>\n",
       "      <th>1703</th>\n",
       "      <td>Zimbabwe</td>\n",
       "      <td>2007</td>\n",
       "      <td>12311143</td>\n",
       "    </tr>\n",
       "  </tbody>\n",
       "</table>\n",
       "<p>1704 rows × 3 columns</p>\n",
       "</div>"
      ],
      "text/plain": [
       "          country  year  population\n",
       "0     Afghanistan  1952     8425333\n",
       "1     Afghanistan  1957     9240934\n",
       "2     Afghanistan  1962    10267083\n",
       "3     Afghanistan  1967    11537966\n",
       "4     Afghanistan  1972    13079460\n",
       "...           ...   ...         ...\n",
       "1699     Zimbabwe  1987     9216418\n",
       "1700     Zimbabwe  1992    10704340\n",
       "1701     Zimbabwe  1997    11404948\n",
       "1702     Zimbabwe  2002    11926563\n",
       "1703     Zimbabwe  2007    12311143\n",
       "\n",
       "[1704 rows x 3 columns]"
      ]
     },
     "execution_count": 4,
     "metadata": {},
     "output_type": "execute_result"
    }
   ],
   "source": [
    "data"
   ]
  },
  {
   "cell_type": "code",
   "execution_count": 11,
   "id": "9391b731-fca3-44c6-9376-30b11f9bee76",
   "metadata": {},
   "outputs": [],
   "source": [
    "japan = data[data.country == \"Japan\"]"
   ]
  },
  {
   "cell_type": "code",
   "execution_count": 17,
   "id": "76362f9c-39e5-49be-95b6-81845cd96371",
   "metadata": {},
   "outputs": [
    {
     "data": {
      "text/html": [
       "<div>\n",
       "<style scoped>\n",
       "    .dataframe tbody tr th:only-of-type {\n",
       "        vertical-align: middle;\n",
       "    }\n",
       "\n",
       "    .dataframe tbody tr th {\n",
       "        vertical-align: top;\n",
       "    }\n",
       "\n",
       "    .dataframe thead th {\n",
       "        text-align: right;\n",
       "    }\n",
       "</style>\n",
       "<table border=\"1\" class=\"dataframe\">\n",
       "  <thead>\n",
       "    <tr style=\"text-align: right;\">\n",
       "      <th></th>\n",
       "      <th>country</th>\n",
       "      <th>year</th>\n",
       "      <th>population</th>\n",
       "    </tr>\n",
       "  </thead>\n",
       "  <tbody>\n",
       "    <tr>\n",
       "      <th>792</th>\n",
       "      <td>Japan</td>\n",
       "      <td>1952</td>\n",
       "      <td>86459025</td>\n",
       "    </tr>\n",
       "    <tr>\n",
       "      <th>793</th>\n",
       "      <td>Japan</td>\n",
       "      <td>1957</td>\n",
       "      <td>91563009</td>\n",
       "    </tr>\n",
       "    <tr>\n",
       "      <th>794</th>\n",
       "      <td>Japan</td>\n",
       "      <td>1962</td>\n",
       "      <td>95831757</td>\n",
       "    </tr>\n",
       "    <tr>\n",
       "      <th>795</th>\n",
       "      <td>Japan</td>\n",
       "      <td>1967</td>\n",
       "      <td>100825279</td>\n",
       "    </tr>\n",
       "    <tr>\n",
       "      <th>796</th>\n",
       "      <td>Japan</td>\n",
       "      <td>1972</td>\n",
       "      <td>107188273</td>\n",
       "    </tr>\n",
       "    <tr>\n",
       "      <th>797</th>\n",
       "      <td>Japan</td>\n",
       "      <td>1977</td>\n",
       "      <td>113872473</td>\n",
       "    </tr>\n",
       "    <tr>\n",
       "      <th>798</th>\n",
       "      <td>Japan</td>\n",
       "      <td>1982</td>\n",
       "      <td>118454974</td>\n",
       "    </tr>\n",
       "    <tr>\n",
       "      <th>799</th>\n",
       "      <td>Japan</td>\n",
       "      <td>1987</td>\n",
       "      <td>122091325</td>\n",
       "    </tr>\n",
       "    <tr>\n",
       "      <th>800</th>\n",
       "      <td>Japan</td>\n",
       "      <td>1992</td>\n",
       "      <td>124329269</td>\n",
       "    </tr>\n",
       "    <tr>\n",
       "      <th>801</th>\n",
       "      <td>Japan</td>\n",
       "      <td>1997</td>\n",
       "      <td>125956499</td>\n",
       "    </tr>\n",
       "    <tr>\n",
       "      <th>802</th>\n",
       "      <td>Japan</td>\n",
       "      <td>2002</td>\n",
       "      <td>127065841</td>\n",
       "    </tr>\n",
       "    <tr>\n",
       "      <th>803</th>\n",
       "      <td>Japan</td>\n",
       "      <td>2007</td>\n",
       "      <td>127467972</td>\n",
       "    </tr>\n",
       "  </tbody>\n",
       "</table>\n",
       "</div>"
      ],
      "text/plain": [
       "    country  year  population\n",
       "792   Japan  1952    86459025\n",
       "793   Japan  1957    91563009\n",
       "794   Japan  1962    95831757\n",
       "795   Japan  1967   100825279\n",
       "796   Japan  1972   107188273\n",
       "797   Japan  1977   113872473\n",
       "798   Japan  1982   118454974\n",
       "799   Japan  1987   122091325\n",
       "800   Japan  1992   124329269\n",
       "801   Japan  1997   125956499\n",
       "802   Japan  2002   127065841\n",
       "803   Japan  2007   127467972"
      ]
     },
     "execution_count": 17,
     "metadata": {},
     "output_type": "execute_result"
    }
   ],
   "source": [
    "japan"
   ]
  },
  {
   "cell_type": "code",
   "execution_count": 38,
   "id": "a739f053-6c4e-44af-a9b7-674c8463ece7",
   "metadata": {},
   "outputs": [],
   "source": [
    "korea = data[data.country == \"Korea, Rep.\"]"
   ]
  },
  {
   "cell_type": "code",
   "execution_count": 39,
   "id": "c2778adb-bb90-4cdc-bf8e-1a0b7cb8739b",
   "metadata": {},
   "outputs": [
    {
     "data": {
      "text/html": [
       "<div>\n",
       "<style scoped>\n",
       "    .dataframe tbody tr th:only-of-type {\n",
       "        vertical-align: middle;\n",
       "    }\n",
       "\n",
       "    .dataframe tbody tr th {\n",
       "        vertical-align: top;\n",
       "    }\n",
       "\n",
       "    .dataframe thead th {\n",
       "        text-align: right;\n",
       "    }\n",
       "</style>\n",
       "<table border=\"1\" class=\"dataframe\">\n",
       "  <thead>\n",
       "    <tr style=\"text-align: right;\">\n",
       "      <th></th>\n",
       "      <th>country</th>\n",
       "      <th>year</th>\n",
       "      <th>population</th>\n",
       "    </tr>\n",
       "  </thead>\n",
       "  <tbody>\n",
       "    <tr>\n",
       "      <th>840</th>\n",
       "      <td>Korea, Rep.</td>\n",
       "      <td>1952</td>\n",
       "      <td>20947571</td>\n",
       "    </tr>\n",
       "    <tr>\n",
       "      <th>841</th>\n",
       "      <td>Korea, Rep.</td>\n",
       "      <td>1957</td>\n",
       "      <td>22611552</td>\n",
       "    </tr>\n",
       "    <tr>\n",
       "      <th>842</th>\n",
       "      <td>Korea, Rep.</td>\n",
       "      <td>1962</td>\n",
       "      <td>26420307</td>\n",
       "    </tr>\n",
       "    <tr>\n",
       "      <th>843</th>\n",
       "      <td>Korea, Rep.</td>\n",
       "      <td>1967</td>\n",
       "      <td>30131000</td>\n",
       "    </tr>\n",
       "    <tr>\n",
       "      <th>844</th>\n",
       "      <td>Korea, Rep.</td>\n",
       "      <td>1972</td>\n",
       "      <td>33505000</td>\n",
       "    </tr>\n",
       "    <tr>\n",
       "      <th>845</th>\n",
       "      <td>Korea, Rep.</td>\n",
       "      <td>1977</td>\n",
       "      <td>36436000</td>\n",
       "    </tr>\n",
       "    <tr>\n",
       "      <th>846</th>\n",
       "      <td>Korea, Rep.</td>\n",
       "      <td>1982</td>\n",
       "      <td>39326000</td>\n",
       "    </tr>\n",
       "    <tr>\n",
       "      <th>847</th>\n",
       "      <td>Korea, Rep.</td>\n",
       "      <td>1987</td>\n",
       "      <td>41622000</td>\n",
       "    </tr>\n",
       "    <tr>\n",
       "      <th>848</th>\n",
       "      <td>Korea, Rep.</td>\n",
       "      <td>1992</td>\n",
       "      <td>43805450</td>\n",
       "    </tr>\n",
       "    <tr>\n",
       "      <th>849</th>\n",
       "      <td>Korea, Rep.</td>\n",
       "      <td>1997</td>\n",
       "      <td>46173816</td>\n",
       "    </tr>\n",
       "    <tr>\n",
       "      <th>850</th>\n",
       "      <td>Korea, Rep.</td>\n",
       "      <td>2002</td>\n",
       "      <td>47969150</td>\n",
       "    </tr>\n",
       "    <tr>\n",
       "      <th>851</th>\n",
       "      <td>Korea, Rep.</td>\n",
       "      <td>2007</td>\n",
       "      <td>49044790</td>\n",
       "    </tr>\n",
       "  </tbody>\n",
       "</table>\n",
       "</div>"
      ],
      "text/plain": [
       "         country  year  population\n",
       "840  Korea, Rep.  1952    20947571\n",
       "841  Korea, Rep.  1957    22611552\n",
       "842  Korea, Rep.  1962    26420307\n",
       "843  Korea, Rep.  1967    30131000\n",
       "844  Korea, Rep.  1972    33505000\n",
       "845  Korea, Rep.  1977    36436000\n",
       "846  Korea, Rep.  1982    39326000\n",
       "847  Korea, Rep.  1987    41622000\n",
       "848  Korea, Rep.  1992    43805450\n",
       "849  Korea, Rep.  1997    46173816\n",
       "850  Korea, Rep.  2002    47969150\n",
       "851  Korea, Rep.  2007    49044790"
      ]
     },
     "execution_count": 39,
     "metadata": {},
     "output_type": "execute_result"
    }
   ],
   "source": [
    "korea"
   ]
  },
  {
   "cell_type": "code",
   "execution_count": 47,
   "id": "49e5ba2a-a7b5-404f-8c3c-22c01cc050fc",
   "metadata": {},
   "outputs": [
    {
     "data": {
      "image/png": "[encoded data removed]",
      "text/plain": [
       "<Figure size 640x480 with 1 Axes>"
      ]
     },
     "metadata": {},
     "output_type": "display_data"
    }
   ],
   "source": [
    "plt.bar(japan['year'], japan['population']  / 10**6, color='blue')\n",
    "plt.bar(korea['year'], korea['population'] / 10**6, color='orange')\n",
    "plt.title('Total Population Comparison')\n",
    "plt.legend(['Japan', 'Korea'])\n",
    "plt.xlabel('Year')\n",
    "4plt.ylabel('Population')\n",
    "plt.show()"
   ]
  },
  {
   "cell_type": "code",
   "execution_count": 10,
   "id": "2906224b-617e-4904-95d7-c127a6e86759",
   "metadata": {},
   "outputs": [
    {
     "data": {
      "text/plain": [
       "792     86459025\n",
       "793     91563009\n",
       "794     95831757\n",
       "795    100825279\n",
       "796    107188273\n",
       "797    113872473\n",
       "798    118454974\n",
       "799    122091325\n",
       "800    124329269\n",
       "801    125956499\n",
       "802    127065841\n",
       "803    127467972\n",
       "Name: population, dtype: int64"
      ]
     },
     "execution_count": 10,
     "metadata": {},
     "output_type": "execute_result"
    }
   ],
   "source": [
    "japan.po"
   ]
  },
  {
   "cell_type": "code",
   "execution_count": 42,
   "id": "56c4140d-bbd1-4a35-8ee5-168f190aa57d",
   "metadata": {},
   "outputs": [
    {
     "data": {
      "text/plain": [
       "840    20947571\n",
       "841    22611552\n",
       "842    26420307\n",
       "843    30131000\n",
       "844    33505000\n",
       "845    36436000\n",
       "846    39326000\n",
       "847    41622000\n",
       "848    43805450\n",
       "849    46173816\n",
       "850    47969150\n",
       "851    49044790\n",
       "Name: population, dtype: int64"
      ]
     },
     "execution_count": 42,
     "metadata": {},
     "output_type": "execute_result"
    }
   ],
   "source": [
    "korea.population"
   ]
  },
  {
   "cell_type": "code",
   "execution_count": 49,
   "id": "f32b0070-e74f-4fd3-aeb5-39921737199b",
   "metadata": {},
   "outputs": [
    {
     "data": {
      "text/plain": [
       "2094757100"
      ]
     },
     "execution_count": 49,
     "metadata": {},
     "output_type": "execute_result"
    }
   ],
   "source": [
    "korea.population.iloc[0] * 100"
   ]
  },
  {
   "cell_type": "code",
   "execution_count": 68,
   "id": "ae2f2218-b493-450e-8103-46517a7b7718",
   "metadata": {},
   "outputs": [
    {
     "data": {
      "image/png": "[encoded data removed]",
      "text/plain": [
       "<Figure size 640x480 with 1 Axes>"
      ]
     },
     "metadata": {},
     "output_type": "display_data"
    }
   ],
   "source": [
    "#filter the data, only get the data from 2007\n",
    "population_2007 = countries_df[countries_df['year'] == 2007]\n",
    "\n",
    "#create a variable to get the desired contry's population in that year\n",
    "japan_population = population_2007[population_2007['country'] == 'Japan']['population'].values[0]\n",
    "korea_population = population_2007[population_2007['country'] == 'Korea, Rep.']['population'].values[0]\n",
    "\n",
    "#calculate the data to the world population in that year\n",
    "japan_percentage = (japan_population / population_2007['population'].sum()) * 100\n",
    "korea_percentage = (korea_population / population_2007['population'].sum()) * 100\n",
    "\n",
    "countries = ['Japan', 'Korea']\n",
    "percentages = [japan_percentage, korea_percentage]\n",
    "\n",
    "plt.bar(countries, percentages, color=['blue', 'orange'])\n",
    "plt.xlabel('Country')\n",
    "plt.ylabel('Percentage of Population')\n",
    "plt.title('Population Percentage Comparison in 2007')\n",
    "plt.show()"
   ]
  },
  {
   "cell_type": "code",
   "execution_count": null,
   "id": "87995602-da39-4c39-ae44-d9ccbcedaf9e",
   "metadata": {},
   "outputs": [],
   "source": []
  }
 ],
 "metadata": {
  "kernelspec": {
   "display_name": "Python 3 (ipykernel)",
   "language": "python",
   "name": "python3"
  },
  "language_info": {
   "codemirror_mode": {
    "name": "ipython",
    "version": 3
   },
   "file_extension": ".py",
   "mimetype": "text/x-python",
   "name": "python",
   "nbconvert_exporter": "python",
   "pygments_lexer": "ipython3",
   "version": "3.11.7"
  }
 },
 "nbformat": 4,
 "nbformat_minor": 5
}
